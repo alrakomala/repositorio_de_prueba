{
 "cells": [
  {
   "cell_type": "markdown",
   "id": "d7e750b3",
   "metadata": {},
   "source": [
    "# Conceptos básicos de Python\n",
    "\n",
    "ventajas de usar notebooks: son documentos que pueden contener código, ecuaciones, figuras, texto, links. Estos documentos son de fácil comprensión para el humano y también son ejecutables por el computador.\n",
    "\n",
    "$\\Lambda = \\sqrt \\frac{\\theta^3}{(1-\\alpha)} + 5$\n",
    "\n",
    "[Aquí](https://github.com/adam-p/markdown-here/wiki/Markdown-Cheatsheet#emphasis) pueden ver mas sobre la sintaxis en celdas de texto. También para los archivos README.md de GItHub. \n",
    "\n",
    "******\n",
    "******"
   ]
  },
  {
   "cell_type": "markdown",
   "id": "0d7c8061",
   "metadata": {},
   "source": [
    "### Tipos de variables nativas\n",
    "\n",
    "```python\n",
    "Text Type:  \tstr\n",
    "Numeric Types:\tint, float, complex\n",
    "Sequence Types:\tlist, tuple, range\n",
    "Mapping Type:\tdict\n",
    "Set Types:  \tset\n",
    "Boolean Type:\tbool\n",
    "```\n",
    "\n",
    "A diferencia de otros lenguajes, no es necesario declarar el tipo de variable"
   ]
  },
  {
   "cell_type": "code",
   "execution_count": 2,
   "id": "3a12dc3f",
   "metadata": {},
   "outputs": [],
   "source": [
    "a=5\n",
    "b = 5.6"
   ]
  },
  {
   "cell_type": "code",
   "execution_count": 3,
   "id": "f0a29551",
   "metadata": {},
   "outputs": [
    {
     "name": "stdout",
     "output_type": "stream",
     "text": [
      "<class 'int'>\n",
      "<class 'float'>\n"
     ]
    }
   ],
   "source": [
    "print(type(a))\n",
    "print(type(b))"
   ]
  },
  {
   "cell_type": "code",
   "execution_count": 4,
   "id": "45af68ac",
   "metadata": {},
   "outputs": [
    {
     "name": "stdout",
     "output_type": "stream",
     "text": [
      "<class 'float'>\n"
     ]
    }
   ],
   "source": [
    "a = 4.4 # reescribible\n",
    "print(type(a))"
   ]
  },
  {
   "cell_type": "code",
   "execution_count": 5,
   "id": "b76089ab",
   "metadata": {},
   "outputs": [
    {
     "data": {
      "text/plain": [
       "24.4"
      ]
     },
     "execution_count": 5,
     "metadata": {},
     "output_type": "execute_result"
    }
   ],
   "source": [
    "# comentario corto\n",
    "\n",
    "\"\"\" tres comillas (dobles o sencillas) \n",
    "para comentarios largos o descripciones\n",
    "que abarquen varias lineas.\n",
    "\n",
    "Por ejemplo dentro de funciones para indicar \n",
    "las variables de entrada y salida.\n",
    "\"\"\"\n",
    "\n",
    "a+20"
   ]
  },
  {
   "cell_type": "markdown",
   "id": "61edd494",
   "metadata": {},
   "source": [
    "### Casting \n",
    "Cambiar el tipo de variable"
   ]
  },
  {
   "cell_type": "code",
   "execution_count": 6,
   "id": "e66e018f",
   "metadata": {},
   "outputs": [
    {
     "data": {
      "text/plain": [
       "str"
      ]
     },
     "execution_count": 6,
     "metadata": {},
     "output_type": "execute_result"
    }
   ],
   "source": [
    "str(a)\n",
    "\n",
    "t = '5.2'\n",
    "type(t)"
   ]
  },
  {
   "cell_type": "code",
   "execution_count": 7,
   "id": "b93b5b02",
   "metadata": {},
   "outputs": [
    {
     "data": {
      "text/plain": [
       "5.2"
      ]
     },
     "execution_count": 7,
     "metadata": {},
     "output_type": "execute_result"
    }
   ],
   "source": [
    "float(t)"
   ]
  },
  {
   "cell_type": "markdown",
   "id": "28455b0d",
   "metadata": {},
   "source": [
    "### Nombrando variables\n",
    "\n",
    "_case-sensitive_"
   ]
  },
  {
   "cell_type": "code",
   "execution_count": 8,
   "id": "512c1e95",
   "metadata": {},
   "outputs": [
    {
     "name": "stdout",
     "output_type": "stream",
     "text": [
      "b =  8   B =  casa\n"
     ]
    }
   ],
   "source": [
    "b = 8\n",
    "B = 'casa'\n",
    "print(\"b = \", b, \"  B = \", B)"
   ]
  },
  {
   "cell_type": "code",
   "execution_count": 9,
   "id": "ba3f5a65",
   "metadata": {},
   "outputs": [],
   "source": [
    "variable1 = 6.12\n",
    "variable2 = 'h'\n",
    "a2234567_567890 = 'algo'"
   ]
  },
  {
   "cell_type": "markdown",
   "id": "9eebda56",
   "metadata": {},
   "source": [
    "**Los nombres de las variables NO pueden empezar con número**\n",
    "\n",
    "Buenas prácticas: https://www.freecodecamp.org/news/snake-case-vs-camel-case-vs-pascal-case-vs-kebab-case-whats-the-difference/"
   ]
  },
  {
   "cell_type": "code",
   "execution_count": 10,
   "id": "551452b9",
   "metadata": {},
   "outputs": [],
   "source": [
    "# Snake case\n",
    "numero_de_aciertos = 10\n",
    "\n",
    "# Camel case\n",
    "numeroDeAciertos = 10\n",
    "\n",
    "# Pascal case\n",
    "NumeroDeAciertos = 10"
   ]
  },
  {
   "cell_type": "markdown",
   "id": "2df93355",
   "metadata": {},
   "source": [
    "### Otras formas de imprimir resultados (pantalla y/o archivos)\n",
    "Interpolacion de cadenas de caracteres"
   ]
  },
  {
   "cell_type": "code",
   "execution_count": 11,
   "id": "120b7cdf",
   "metadata": {},
   "outputs": [
    {
     "name": "stdout",
     "output_type": "stream",
     "text": [
      "texto1  8   texto2  casa\n"
     ]
    }
   ],
   "source": [
    "print(\"texto1 \", b, \"  texto2 \", B)"
   ]
  },
  {
   "cell_type": "code",
   "execution_count": 12,
   "id": "d057acff",
   "metadata": {},
   "outputs": [
    {
     "name": "stdout",
     "output_type": "stream",
     "text": [
      "un int: 8  un str:casa  un float:6.12\n"
     ]
    }
   ],
   "source": [
    "print(\"un int: \" + str(b) + \"  un str:\" + B + \"  un float:\" + str(variable1)) "
   ]
  },
  {
   "cell_type": "code",
   "execution_count": 13,
   "id": "d2286fd4",
   "metadata": {},
   "outputs": [
    {
     "name": "stdout",
     "output_type": "stream",
     "text": [
      "un int: 8  un str:  casa  un float: 6.12\n"
     ]
    }
   ],
   "source": [
    "print(f\"un int: {b}  un str:  {B}  un float: {variable1}\")"
   ]
  },
  {
   "cell_type": "code",
   "execution_count": 14,
   "id": "d11135f9",
   "metadata": {},
   "outputs": [
    {
     "name": "stdout",
     "output_type": "stream",
     "text": [
      "un int:12.24  un str:casa  un float:12.24\n"
     ]
    }
   ],
   "source": [
    "print(\"un int:{2}  un str:{1}  un float:{2}\".format(b, B, variable1*2))"
   ]
  },
  {
   "cell_type": "code",
   "execution_count": 15,
   "id": "4f05ebf5",
   "metadata": {},
   "outputs": [
    {
     "name": "stdout",
     "output_type": "stream",
     "text": [
      "un int:8  un str:casa un float:12.24\n"
     ]
    }
   ],
   "source": [
    "# d->int , f ->float, s->str\n",
    "\n",
    "print(\"un int:%d  un str:%s un float:%.2f\" % (b, B, 2*variable1)) "
   ]
  },
  {
   "cell_type": "code",
   "execution_count": 17,
   "id": "45d16298",
   "metadata": {},
   "outputs": [
    {
     "name": "stdout",
     "output_type": "stream",
     "text": [
      "14.987600\n"
     ]
    }
   ],
   "source": [
    "numeroFloat = 14.9876\n",
    "\n",
    "print(\"%f\" % numeroFloat)"
   ]
  },
  {
   "cell_type": "code",
   "execution_count": 18,
   "id": "a4dcfc79",
   "metadata": {},
   "outputs": [
    {
     "name": "stdout",
     "output_type": "stream",
     "text": [
      "15.0\n"
     ]
    }
   ],
   "source": [
    "print(\"%.1f\" % numeroFloat) "
   ]
  },
  {
   "cell_type": "code",
   "execution_count": 19,
   "id": "762e0626",
   "metadata": {},
   "outputs": [
    {
     "name": "stdout",
     "output_type": "stream",
     "text": [
      "14.99\n"
     ]
    }
   ],
   "source": [
    "print(\"%.2f\" % numeroFloat) "
   ]
  },
  {
   "cell_type": "code",
   "execution_count": 20,
   "id": "7cb820a6",
   "metadata": {},
   "outputs": [
    {
     "name": "stdout",
     "output_type": "stream",
     "text": [
      "14\n"
     ]
    }
   ],
   "source": [
    "print(\"%d\" % numeroFloat) #  en este caso NO redondea, solo regresa la parte entera"
   ]
  },
  {
   "cell_type": "code",
   "execution_count": 95,
   "id": "bbbc14f0",
   "metadata": {},
   "outputs": [
    {
     "name": "stdout",
     "output_type": "stream",
     "text": [
      "un int:         8   \n",
      "un str:      casa  \n",
      "un float:   12.24\n"
     ]
    }
   ],
   "source": [
    "# quiebre de linea \n",
    "print(\"un int:%10d   \\nun str:%10s  \\nun float:%8.2f\" % (b, B, 2*variable1)) "
   ]
  },
  {
   "cell_type": "markdown",
   "id": "4e1a599c",
   "metadata": {},
   "source": [
    "## Listas [  ]\n",
    "\n",
    "Conjuntos de elementos (numeros y letras) dentro de corchetes [ ]. \n",
    "\n",
    "Cada elemento tiene asociado un indice (su posición). El contador comienza en 0. "
   ]
  },
  {
   "cell_type": "code",
   "execution_count": 67,
   "id": "e561e731",
   "metadata": {},
   "outputs": [],
   "source": [
    "lista1 = [1, 2, 3, 4]\n",
    "lista2 = ['a', 'b', 'c']\n",
    "lista3 = [1,'eee', 90, 9.98, 'esto es \"un\" elemento']"
   ]
  },
  {
   "cell_type": "code",
   "execution_count": 68,
   "id": "4be3e40b",
   "metadata": {},
   "outputs": [
    {
     "data": {
      "text/plain": [
       "'elemento'"
      ]
     },
     "execution_count": 68,
     "metadata": {},
     "output_type": "execute_result"
    }
   ],
   "source": [
    "#extraer elementos  \n",
    "lista3[4][8:12]\n",
    "lista3[4][13:]"
   ]
  },
  {
   "cell_type": "code",
   "execution_count": 69,
   "id": "76d73688",
   "metadata": {},
   "outputs": [
    {
     "data": {
      "text/plain": [
       "'esto'"
      ]
     },
     "execution_count": 69,
     "metadata": {},
     "output_type": "execute_result"
    }
   ],
   "source": [
    "lista3[4][:4]"
   ]
  },
  {
   "cell_type": "code",
   "execution_count": 70,
   "id": "d4f049fd",
   "metadata": {},
   "outputs": [
    {
     "data": {
      "text/plain": [
       "[1, 2, 3, 4, 'a', 'b', 'c']"
      ]
     },
     "execution_count": 70,
     "metadata": {},
     "output_type": "execute_result"
    }
   ],
   "source": [
    "# 'suma' de listas -> concatena\n",
    "\n",
    "lista1+lista2"
   ]
  },
  {
   "cell_type": "code",
   "execution_count": 71,
   "id": "63c87e1a",
   "metadata": {},
   "outputs": [],
   "source": [
    "# append agrega un elemento al final\n",
    "lista1.append('nuevo')"
   ]
  },
  {
   "cell_type": "code",
   "execution_count": 72,
   "id": "d605386b",
   "metadata": {},
   "outputs": [
    {
     "data": {
      "text/plain": [
       "[1, 2, 3, 4, 'nuevo']"
      ]
     },
     "execution_count": 72,
     "metadata": {},
     "output_type": "execute_result"
    }
   ],
   "source": [
    "lista1"
   ]
  },
  {
   "cell_type": "code",
   "execution_count": 73,
   "id": "e7fe66b1",
   "metadata": {},
   "outputs": [
    {
     "data": {
      "text/plain": [
       "[1, 2, 3, 'otro', 4, 'nuevo']"
      ]
     },
     "execution_count": 73,
     "metadata": {},
     "output_type": "execute_result"
    }
   ],
   "source": [
    "# insert agrega un elemento en la posición del indice indicado\n",
    "lista1.insert(3, 'otro')\n",
    "lista1"
   ]
  },
  {
   "cell_type": "code",
   "execution_count": 74,
   "id": "598b5f3f",
   "metadata": {},
   "outputs": [
    {
     "data": {
      "text/plain": [
       "'otro'"
      ]
     },
     "execution_count": 74,
     "metadata": {},
     "output_type": "execute_result"
    }
   ],
   "source": [
    "#pop elimina el elemento con la posición del indice indicado. Quita el ultimo si no se da indice\n",
    "lista1.pop(3)"
   ]
  },
  {
   "cell_type": "code",
   "execution_count": 75,
   "id": "7c04d8ca",
   "metadata": {},
   "outputs": [
    {
     "data": {
      "text/plain": [
       "[1, 2, 3, 4, 'nuevo']"
      ]
     },
     "execution_count": 75,
     "metadata": {},
     "output_type": "execute_result"
    }
   ],
   "source": [
    "lista1"
   ]
  },
  {
   "cell_type": "code",
   "execution_count": 76,
   "id": "33f5f2a4",
   "metadata": {},
   "outputs": [],
   "source": [
    "lista1.append(3)\n",
    "lista1.append('nuevo')\n",
    "print(lista1)"
   ]
  },
  {
   "cell_type": "code",
   "execution_count": 77,
   "id": "d3c76eb6",
   "metadata": {},
   "outputs": [
    {
     "name": "stdout",
     "output_type": "stream",
     "text": [
      "[1, 2, 3, 4, 3, 'nuevo']\n"
     ]
    }
   ],
   "source": [
    "# elimina la primera ocurrencia con el argumento indicado\n",
    "lista1.remove('nuevo')\n",
    "print(lista1)"
   ]
  },
  {
   "cell_type": "code",
   "execution_count": 84,
   "id": "9beccb20",
   "metadata": {},
   "outputs": [
    {
     "data": {
      "text/plain": [
       "['de', 'caracteres', 'con', 'espacios']"
      ]
     },
     "execution_count": 84,
     "metadata": {},
     "output_type": "execute_result"
    }
   ],
   "source": [
    "cadena = 'de caracteres con espacios'\n",
    "cadena.split()"
   ]
  },
  {
   "cell_type": "code",
   "execution_count": 86,
   "id": "74a9a99c",
   "metadata": {},
   "outputs": [
    {
     "data": {
      "text/plain": [
       "['otro#ejemplo',\n",
       " 'de',\n",
       " '#conjunto#',\n",
       " 'de',\n",
       " 'caracteres',\n",
       " 'con',\n",
       " '#espacio',\n",
       " 'y',\n",
       " '#']"
      ]
     },
     "execution_count": 86,
     "metadata": {},
     "output_type": "execute_result"
    }
   ],
   "source": [
    "cadena2 = 'otro#ejemplo de #conjunto# de caracteres con #espacio y #'\n",
    "cadena2.split()"
   ]
  },
  {
   "cell_type": "code",
   "execution_count": 88,
   "id": "7b5aaa42",
   "metadata": {},
   "outputs": [
    {
     "data": {
      "text/plain": [
       "['otro', 'ejemplo de ', 'conjunto', ' de caracteres con ', 'espacio y ', '']"
      ]
     },
     "execution_count": 88,
     "metadata": {},
     "output_type": "execute_result"
    }
   ],
   "source": [
    "cadena2.split('#')"
   ]
  },
  {
   "cell_type": "code",
   "execution_count": 91,
   "id": "57a029a6",
   "metadata": {},
   "outputs": [
    {
     "data": {
      "text/plain": [
       "'DE CARACTERES CON ESPACIOS'"
      ]
     },
     "execution_count": 91,
     "metadata": {},
     "output_type": "execute_result"
    }
   ],
   "source": [
    "cadena.upper()"
   ]
  },
  {
   "cell_type": "code",
   "execution_count": 153,
   "id": "6ec56cd6",
   "metadata": {},
   "outputs": [
    {
     "data": {
      "text/plain": [
       "'hola'"
      ]
     },
     "execution_count": 153,
     "metadata": {},
     "output_type": "execute_result"
    }
   ],
   "source": [
    "HOLA = 'HOLA'\n",
    "HOLA.lower()"
   ]
  },
  {
   "cell_type": "code",
   "execution_count": 127,
   "id": "9b97e493",
   "metadata": {},
   "outputs": [
    {
     "data": {
      "text/plain": [
       "{1, 2, 3, 4, 5, 6, 8, 9}"
      ]
     },
     "execution_count": 127,
     "metadata": {},
     "output_type": "execute_result"
    }
   ],
   "source": [
    "list4 = [2,3,1,4,2,6,5,6,1,8,2,9,2]\n",
    "set(list4)  # elementos unicos"
   ]
  },
  {
   "cell_type": "code",
   "execution_count": 128,
   "id": "081a603b",
   "metadata": {},
   "outputs": [
    {
     "name": "stdout",
     "output_type": "stream",
     "text": [
      "{1, 2, 3, 4, 5}\n"
     ]
    }
   ],
   "source": [
    "set1 = {1,2,3,2,4,2,1,4,5}\n",
    "print(set1)"
   ]
  },
  {
   "cell_type": "code",
   "execution_count": 129,
   "id": "c2a70ca0",
   "metadata": {},
   "outputs": [],
   "source": [
    "set1.add(4)"
   ]
  },
  {
   "cell_type": "code",
   "execution_count": 130,
   "id": "26a69e60",
   "metadata": {},
   "outputs": [
    {
     "data": {
      "text/plain": [
       "{1, 2, 3, 4, 5}"
      ]
     },
     "execution_count": 130,
     "metadata": {},
     "output_type": "execute_result"
    }
   ],
   "source": [
    "set1"
   ]
  },
  {
   "cell_type": "markdown",
   "id": "b73f5f48",
   "metadata": {},
   "source": [
    "## Range\n",
    "\n",
    "Genera secuencias de números\n",
    "# **[ ... )**"
   ]
  },
  {
   "cell_type": "code",
   "execution_count": 50,
   "id": "af43be07",
   "metadata": {},
   "outputs": [
    {
     "data": {
      "text/plain": [
       "range(1, 10)"
      ]
     },
     "execution_count": 50,
     "metadata": {},
     "output_type": "execute_result"
    }
   ],
   "source": [
    "range(1,10)"
   ]
  },
  {
   "cell_type": "code",
   "execution_count": 51,
   "id": "bedf45f3",
   "metadata": {},
   "outputs": [
    {
     "data": {
      "text/plain": [
       "[1, 2, 3, 4, 5, 6, 7, 8, 9]"
      ]
     },
     "execution_count": 51,
     "metadata": {},
     "output_type": "execute_result"
    }
   ],
   "source": [
    "[i for i in range(1,10,1)]"
   ]
  },
  {
   "cell_type": "code",
   "execution_count": 52,
   "id": "845b366d",
   "metadata": {},
   "outputs": [
    {
     "data": {
      "text/plain": [
       "[1, 3, 5, 7, 9]"
      ]
     },
     "execution_count": 52,
     "metadata": {},
     "output_type": "execute_result"
    }
   ],
   "source": [
    "# secuencia decreciente\n",
    "[i for i in range(1,10,2)]"
   ]
  },
  {
   "cell_type": "code",
   "execution_count": 54,
   "id": "be98b0e4",
   "metadata": {},
   "outputs": [
    {
     "data": {
      "text/plain": [
       "[10, 8, 6, 4, 2]"
      ]
     },
     "execution_count": 54,
     "metadata": {},
     "output_type": "execute_result"
    }
   ],
   "source": [
    "[i for i in range(10,1,-2)]"
   ]
  },
  {
   "cell_type": "markdown",
   "id": "594a063f",
   "metadata": {},
   "source": [
    "### Diccionarios  {  }\n",
    "\n",
    " Colección de datos organizados en pares _llave-valor_  (key-value)"
   ]
  },
  {
   "cell_type": "code",
   "execution_count": 96,
   "id": "54f61395",
   "metadata": {},
   "outputs": [],
   "source": [
    "dict1 = {\n",
    "    'key1': 1,\n",
    "    'key2': [2,3,2,3],\n",
    "    'key3': 'a',\n",
    "    'key4':{'sub_llave':[30,40,50]}\n",
    "}"
   ]
  },
  {
   "cell_type": "markdown",
   "id": "26254eff",
   "metadata": {},
   "source": [
    "Para acceder al valor es como en las listas pero en lugar del indice se indica la llave"
   ]
  },
  {
   "cell_type": "code",
   "execution_count": 99,
   "id": "84ddc04f",
   "metadata": {},
   "outputs": [
    {
     "data": {
      "text/plain": [
       "40"
      ]
     },
     "execution_count": 99,
     "metadata": {},
     "output_type": "execute_result"
    }
   ],
   "source": [
    "dict1['key4']['sub_llave'][1]"
   ]
  },
  {
   "cell_type": "code",
   "execution_count": 100,
   "id": "bef640f7",
   "metadata": {},
   "outputs": [],
   "source": [
    "dict1.update({'key1':[5,2]}) # actualiza/reescribe un valor"
   ]
  },
  {
   "cell_type": "code",
   "execution_count": 101,
   "id": "635a7c99",
   "metadata": {},
   "outputs": [
    {
     "data": {
      "text/plain": [
       "{'key1': [5, 2],\n",
       " 'key2': [2, 3, 2, 3],\n",
       " 'key3': 'a',\n",
       " 'key4': {'sub_llave': [30, 40, 50]}}"
      ]
     },
     "execution_count": 101,
     "metadata": {},
     "output_type": "execute_result"
    }
   ],
   "source": [
    "dict1"
   ]
  },
  {
   "cell_type": "code",
   "execution_count": 102,
   "id": "b55a7578",
   "metadata": {},
   "outputs": [],
   "source": [
    "dict1['new_key'] = 1000"
   ]
  },
  {
   "cell_type": "code",
   "execution_count": 103,
   "id": "25dce726",
   "metadata": {},
   "outputs": [],
   "source": [
    "dict1['key2'].insert(1,9)"
   ]
  },
  {
   "cell_type": "code",
   "execution_count": 104,
   "id": "01cada6b",
   "metadata": {},
   "outputs": [
    {
     "data": {
      "text/plain": [
       "{'key1': [5, 2],\n",
       " 'key2': [2, 9, 3, 2, 3],\n",
       " 'key3': 'a',\n",
       " 'key4': {'sub_llave': [30, 40, 50]},\n",
       " 'new_key': 1000}"
      ]
     },
     "execution_count": 104,
     "metadata": {},
     "output_type": "execute_result"
    }
   ],
   "source": [
    "dict1"
   ]
  },
  {
   "cell_type": "code",
   "execution_count": 105,
   "id": "aab2d0c5",
   "metadata": {},
   "outputs": [
    {
     "data": {
      "text/plain": [
       "dict_keys(['key1', 'key2', 'key3', 'key4', 'new_key'])"
      ]
     },
     "execution_count": 105,
     "metadata": {},
     "output_type": "execute_result"
    }
   ],
   "source": [
    "dict1.keys()"
   ]
  },
  {
   "cell_type": "code",
   "execution_count": 106,
   "id": "f674d18c",
   "metadata": {},
   "outputs": [
    {
     "data": {
      "text/plain": [
       "dict_values([[5, 2], [2, 9, 3, 2, 3], 'a', {'sub_llave': [30, 40, 50]}, 1000])"
      ]
     },
     "execution_count": 106,
     "metadata": {},
     "output_type": "execute_result"
    }
   ],
   "source": [
    "dict1.values()"
   ]
  },
  {
   "cell_type": "code",
   "execution_count": 107,
   "id": "63df9edb",
   "metadata": {},
   "outputs": [
    {
     "data": {
      "text/plain": [
       "40"
      ]
     },
     "execution_count": 107,
     "metadata": {},
     "output_type": "execute_result"
    }
   ],
   "source": [
    "dict1['key4']['sub_llave'].pop(1)"
   ]
  },
  {
   "cell_type": "code",
   "execution_count": 108,
   "id": "8a900fdd",
   "metadata": {},
   "outputs": [
    {
     "data": {
      "text/plain": [
       "{'key1': [5, 2],\n",
       " 'key2': [2, 9, 3, 2, 3],\n",
       " 'key3': 'a',\n",
       " 'key4': {'sub_llave': [30, 50]},\n",
       " 'new_key': 1000}"
      ]
     },
     "execution_count": 108,
     "metadata": {},
     "output_type": "execute_result"
    }
   ],
   "source": [
    "dict1"
   ]
  },
  {
   "cell_type": "code",
   "execution_count": 109,
   "id": "1ae48e5c",
   "metadata": {},
   "outputs": [
    {
     "data": {
      "text/plain": [
       "[2, 9, 3, 2, 3]"
      ]
     },
     "execution_count": 109,
     "metadata": {},
     "output_type": "execute_result"
    }
   ],
   "source": [
    "dict1.pop('key2')"
   ]
  },
  {
   "cell_type": "code",
   "execution_count": 110,
   "id": "b10332e5",
   "metadata": {},
   "outputs": [
    {
     "data": {
      "text/plain": [
       "{'key1': [5, 2], 'key3': 'a', 'key4': {'sub_llave': [30, 50]}, 'new_key': 1000}"
      ]
     },
     "execution_count": 110,
     "metadata": {},
     "output_type": "execute_result"
    }
   ],
   "source": [
    "dict1"
   ]
  },
  {
   "cell_type": "markdown",
   "id": "1a0be893",
   "metadata": {},
   "source": [
    "## Operadores\n",
    "https://www.freecodecamp.org/espanol/news/operadores-basicos-en-python-con-ejemplos/\n",
    "\n",
    "### Operadores aritméticos\n",
    "\n",
    "\n",
    "### +   &nbsp;   -   &nbsp;   *   &nbsp;   **   &nbsp;     /   &nbsp;     //    &nbsp;   % \n",
    "\n",
    "\n",
    "//  (a//b   regresa el entero de a / b)  \n",
    "\n",
    "%  modulo  (a % b   regresa el residuo de la parte entera a / b)\n",
    "\n",
    "\n"
   ]
  },
  {
   "cell_type": "code",
   "execution_count": 70,
   "id": "833f1234",
   "metadata": {},
   "outputs": [
    {
     "data": {
      "text/plain": [
       "25"
      ]
     },
     "execution_count": 70,
     "metadata": {},
     "output_type": "execute_result"
    }
   ],
   "source": [
    "a**2"
   ]
  },
  {
   "cell_type": "code",
   "execution_count": 33,
   "id": "640962c6",
   "metadata": {},
   "outputs": [
    {
     "name": "stdout",
     "output_type": "stream",
     "text": [
      "10//2 =  5   10%2 =  0\n",
      "11//2 =  5   11%2 =  1\n",
      "12//2 =  6   12%2 =  0\n",
      "13//2 =  6   13%2 =  1\n"
     ]
    }
   ],
   "source": [
    "print(\"10//2 = \", 10//2, \"  10%2 = \",10%2)\n",
    "\n",
    "print(\"11//2 = \", 11//2, \"  11%2 = \",11%2)\n",
    "\n",
    "print(\"12//2 = \", 12//2, \"  12%2 = \",12%2)\n",
    "\n",
    "print(\"13//2 = \", 13//2, \"  13%2 = \",13%2)"
   ]
  },
  {
   "cell_type": "code",
   "execution_count": 34,
   "id": "f791e1a7",
   "metadata": {},
   "outputs": [
    {
     "data": {
      "text/plain": [
       "0.0003311955788288863"
      ]
     },
     "execution_count": 34,
     "metadata": {},
     "output_type": "execute_result"
    }
   ],
   "source": [
    "x , y, w = 1, 2, 3\n",
    "\n",
    "numerador = (5*x**4 -1)**0.8\n",
    "denominador = (w**3)*( 85*y**2 - x**3)\n",
    "\n",
    "numerador/denominador\n"
   ]
  },
  {
   "cell_type": "markdown",
   "id": "460bc72a",
   "metadata": {},
   "source": [
    "### Operadores relacionales\n",
    "\n",
    "Compara y establece ua relación entre dos variables. \n",
    "\n",
    "Regresa un booleano (True o False)\n",
    "\n",
    "### >   &nbsp;  <   &nbsp;  ==   &nbsp;   >=   &nbsp;     <=   &nbsp;     !=   "
   ]
  },
  {
   "cell_type": "code",
   "execution_count": 72,
   "id": "fedf6f0c",
   "metadata": {},
   "outputs": [
    {
     "data": {
      "text/plain": [
       "True"
      ]
     },
     "execution_count": 72,
     "metadata": {},
     "output_type": "execute_result"
    }
   ],
   "source": [
    "8 < 10"
   ]
  },
  {
   "cell_type": "code",
   "execution_count": 74,
   "id": "935fe6ce",
   "metadata": {},
   "outputs": [
    {
     "data": {
      "text/plain": [
       "True"
      ]
     },
     "execution_count": 74,
     "metadata": {},
     "output_type": "execute_result"
    }
   ],
   "source": [
    "a=4\n",
    "b=19\n",
    "\n",
    "a != b"
   ]
  },
  {
   "cell_type": "code",
   "execution_count": 75,
   "id": "cb2703fb",
   "metadata": {},
   "outputs": [
    {
     "data": {
      "text/plain": [
       "False"
      ]
     },
     "execution_count": 75,
     "metadata": {},
     "output_type": "execute_result"
    }
   ],
   "source": [
    "'hola' == 'HOLA'"
   ]
  },
  {
   "cell_type": "markdown",
   "id": "e2733f30",
   "metadata": {},
   "source": [
    "### Operadores de asignación\n",
    "\n",
    "para asignar valores a las variables.\n",
    "\n",
    "##### a = 5\n",
    "##### a += 5 &nbsp;  &nbsp; a = a + 5\n",
    "##### a -= 5 &nbsp;   &nbsp; a = a - 5\n",
    "##### a *= 3 &nbsp;   &nbsp; a = a * 3\n",
    "##### a /= 3 &nbsp;   &nbsp; a = a / 3\n",
    "##### a %= 3 &nbsp;   &nbsp; a = a % 3\n",
    "##### a **= 3 &nbsp;   &nbsp; a = a ** 3\n",
    "##### a //= 3 &nbsp;   &nbsp; a = a // 3\n",
    "##### a &= 3 &nbsp;   &nbsp; a = a & 3\n",
    "##### a |= 3 &nbsp;   &nbsp; a = a | 3\n",
    "##### a ^= 3 &nbsp;   &nbsp; a = a ^ 3\n",
    "##### a >>= 3 &nbsp;   &nbsp; a = a >> 3\n",
    "##### a <<= 3 &nbsp;   &nbsp; a = a << 3\n"
   ]
  },
  {
   "cell_type": "code",
   "execution_count": 76,
   "id": "a9624269",
   "metadata": {},
   "outputs": [
    {
     "data": {
      "text/plain": [
       "5"
      ]
     },
     "execution_count": 76,
     "metadata": {},
     "output_type": "execute_result"
    }
   ],
   "source": [
    "i_count = 0\n",
    "for j in range(0,5):\n",
    "    i_count += 1 \n",
    "\n",
    "i_count"
   ]
  },
  {
   "cell_type": "markdown",
   "id": "30b43ca9",
   "metadata": {},
   "source": [
    "### Operadores Lógicos\n",
    "\n",
    "\n",
    "####  and  &nbsp;  &nbsp;    Devuelve True si ambas expresiones son True\n",
    "#### or  &nbsp;  &nbsp;   Devuelve True si alguna de las expresiones es True\n",
    "#### not  &nbsp;  &nbsp;  Devuelve True si la expresión es False"
   ]
  },
  {
   "cell_type": "code",
   "execution_count": 77,
   "id": "0cb3274b",
   "metadata": {},
   "outputs": [
    {
     "data": {
      "text/plain": [
       "True"
      ]
     },
     "execution_count": 77,
     "metadata": {},
     "output_type": "execute_result"
    }
   ],
   "source": [
    "a , b = 3 , 5.5\n",
    "\n",
    "(a < 10) and (b >= 5)"
   ]
  },
  {
   "cell_type": "code",
   "execution_count": 79,
   "id": "e5b856da",
   "metadata": {},
   "outputs": [
    {
     "data": {
      "text/plain": [
       "False"
      ]
     },
     "execution_count": 79,
     "metadata": {},
     "output_type": "execute_result"
    }
   ],
   "source": [
    "(a < 10) and (b <= 5)"
   ]
  },
  {
   "cell_type": "code",
   "execution_count": 80,
   "id": "7ec80d99",
   "metadata": {},
   "outputs": [
    {
     "data": {
      "text/plain": [
       "True"
      ]
     },
     "execution_count": 80,
     "metadata": {},
     "output_type": "execute_result"
    }
   ],
   "source": [
    "not (b <= 5)"
   ]
  },
  {
   "cell_type": "markdown",
   "id": "d3a8220a",
   "metadata": {},
   "source": [
    "### Operadores de pertenencia\n",
    "\n",
    "Se utilizan para saber si un valor se encuentra en un conjunto de elementos\n",
    "\n",
    "####  in  &nbsp;  &nbsp;   not in"
   ]
  },
  {
   "cell_type": "code",
   "execution_count": 81,
   "id": "b1af346a",
   "metadata": {},
   "outputs": [
    {
     "data": {
      "text/plain": [
       "True"
      ]
     },
     "execution_count": 81,
     "metadata": {},
     "output_type": "execute_result"
    }
   ],
   "source": [
    "lista = [1, 2, 3, 4]\n",
    "\n",
    "2 in lista"
   ]
  },
  {
   "cell_type": "code",
   "execution_count": 83,
   "id": "ce2a16fd",
   "metadata": {},
   "outputs": [
    {
     "data": {
      "text/plain": [
       "True"
      ]
     },
     "execution_count": 83,
     "metadata": {},
     "output_type": "execute_result"
    }
   ],
   "source": [
    "s = 'lakdhfjkla'\n",
    "\n",
    "'k' in s"
   ]
  },
  {
   "cell_type": "markdown",
   "id": "68198809",
   "metadata": {},
   "source": [
    "### Expresiones condicionales\n",
    "\n",
    "Evalúan si una expresión es verdadera o no\n",
    "\n",
    "#### if, elif, else\n"
   ]
  },
  {
   "cell_type": "code",
   "execution_count": 84,
   "id": "97c349cd",
   "metadata": {},
   "outputs": [
    {
     "name": "stdout",
     "output_type": "stream",
     "text": [
      "a es mayor que b\n"
     ]
    }
   ],
   "source": [
    "a = 200\n",
    "b = 33\n",
    "\n",
    "if b > a:\n",
    "    print(\"b es mayor que a\")\n",
    "elif a == b:\n",
    "    print(\"a y b son iguales\")\n",
    "else:\n",
    "    print(\"a es mayor que b\")"
   ]
  },
  {
   "cell_type": "code",
   "execution_count": 85,
   "id": "e6176301",
   "metadata": {},
   "outputs": [
    {
     "name": "stdout",
     "output_type": "stream",
     "text": [
      "a es mayor que b\n"
     ]
    }
   ],
   "source": [
    "if a > b: print(\"a es mayor que b\")"
   ]
  },
  {
   "cell_type": "code",
   "execution_count": 47,
   "id": "4e343382",
   "metadata": {},
   "outputs": [
    {
     "name": "stdout",
     "output_type": "stream",
     "text": [
      "a es mayor que b\n"
     ]
    }
   ],
   "source": [
    "print(\"a es mayor que b\") if a > b else print(\"b es mayor que a\")"
   ]
  },
  {
   "cell_type": "code",
   "execution_count": 86,
   "id": "0ec8fc28",
   "metadata": {},
   "outputs": [
    {
     "name": "stdout",
     "output_type": "stream",
     "text": [
      "a es mayor que b\n"
     ]
    }
   ],
   "source": [
    "print(\"a es mayor que b\") if a > b else print(\"a y b son iguales\") if a == b else print(\"b es mayor que a\")"
   ]
  },
  {
   "cell_type": "code",
   "execution_count": 49,
   "id": "7677a0a6",
   "metadata": {},
   "outputs": [
    {
     "name": "stdout",
     "output_type": "stream",
     "text": [
      "al menos una es mayor que 50\n"
     ]
    }
   ],
   "source": [
    "if a > 50 or b > 50:\n",
    "    print(\"al menos una es mayor que 50\")"
   ]
  },
  {
   "cell_type": "markdown",
   "id": "6eed4abe",
   "metadata": {},
   "source": [
    "### While/For loops\n",
    "\n",
    "Ejecutan instrucciones mientras se cumpla la condición."
   ]
  },
  {
   "cell_type": "code",
   "execution_count": 87,
   "id": "e00050d3",
   "metadata": {},
   "outputs": [
    {
     "name": "stdout",
     "output_type": "stream",
     "text": [
      "1\n",
      "4\n",
      "9\n",
      "16\n"
     ]
    }
   ],
   "source": [
    "for i in lista:\n",
    "    print(i**2)"
   ]
  },
  {
   "cell_type": "code",
   "execution_count": 51,
   "id": "cc252f67",
   "metadata": {},
   "outputs": [
    {
     "name": "stdout",
     "output_type": "stream",
     "text": [
      "k\n",
      "d\n",
      "k\n",
      "d\n",
      "k\n",
      "d\n",
      "k\n",
      "d\n"
     ]
    }
   ],
   "source": [
    "for i in 'kdkdkdkd':\n",
    "    print(i)"
   ]
  },
  {
   "cell_type": "code",
   "execution_count": 88,
   "id": "05ba704d",
   "metadata": {},
   "outputs": [
    {
     "data": {
      "text/plain": [
       "[[1, 1], [4, 8], [9, 27], [16, 64]]"
      ]
     },
     "execution_count": 88,
     "metadata": {},
     "output_type": "execute_result"
    }
   ],
   "source": [
    "u = []\n",
    "\n",
    "for i in lista:\n",
    "   u.append([i**2, i**3])\n",
    "\n",
    "u"
   ]
  },
  {
   "cell_type": "code",
   "execution_count": 155,
   "id": "6763435c",
   "metadata": {},
   "outputs": [
    {
     "data": {
      "text/plain": [
       "[[1, 1], [4, 8], [9, 27]]"
      ]
     },
     "execution_count": 155,
     "metadata": {},
     "output_type": "execute_result"
    }
   ],
   "source": [
    "[[i**2, i**3] for i in lista] # list comprehension"
   ]
  },
  {
   "cell_type": "code",
   "execution_count": 157,
   "id": "35950d33",
   "metadata": {},
   "outputs": [
    {
     "name": "stdout",
     "output_type": "stream",
     "text": [
      "[1, 2]\n",
      "[2, 2]\n",
      "[3, 5]\n",
      "[1, 2]\n"
     ]
    }
   ],
   "source": [
    "lista_xy = [[1,2], [2,2], [3,5], [1,2]]\n",
    "\n",
    "for i in lista_xy: print(i)"
   ]
  },
  {
   "cell_type": "code",
   "execution_count": 159,
   "id": "bec7f167",
   "metadata": {},
   "outputs": [
    {
     "name": "stdout",
     "output_type": "stream",
     "text": [
      "1 2\n",
      "2 2\n",
      "3 5\n",
      "1 2\n"
     ]
    }
   ],
   "source": [
    "for i,j in lista_xy: print(i,j)"
   ]
  },
  {
   "cell_type": "code",
   "execution_count": 89,
   "id": "20f9d97b",
   "metadata": {},
   "outputs": [
    {
     "name": "stdout",
     "output_type": "stream",
     "text": [
      "1\n",
      "2\n",
      "3\n",
      "4\n",
      "5\n"
     ]
    }
   ],
   "source": [
    "i = 1\n",
    "while i < 6:\n",
    "    print(i)\n",
    "    i += 1  #"
   ]
  },
  {
   "cell_type": "code",
   "execution_count": 55,
   "id": "9e639d5f",
   "metadata": {},
   "outputs": [
    {
     "name": "stdout",
     "output_type": "stream",
     "text": [
      "1\n",
      "2\n",
      "3\n"
     ]
    }
   ],
   "source": [
    "i = 1\n",
    "while i < 6:\n",
    "    print(i)\n",
    "    if i == 3:\n",
    "        break\n",
    "    i += 1"
   ]
  },
  {
   "cell_type": "code",
   "execution_count": 56,
   "id": "634cb6fe",
   "metadata": {},
   "outputs": [
    {
     "name": "stdout",
     "output_type": "stream",
     "text": [
      "1\n",
      "2\n",
      "3\n",
      "4\n",
      "5\n",
      "i no es menor que 6\n"
     ]
    }
   ],
   "source": [
    "i = 1\n",
    "while i < 6:\n",
    "    print(i)\n",
    "    i += 1\n",
    "else:\n",
    "    print(\"i no es menor que 6\")"
   ]
  },
  {
   "cell_type": "markdown",
   "id": "ab507dec",
   "metadata": {},
   "source": [
    "### Funciones"
   ]
  },
  {
   "cell_type": "code",
   "execution_count": 131,
   "id": "d8ba3d8a",
   "metadata": {},
   "outputs": [
    {
     "data": {
      "text/plain": [
       "(4, 17)"
      ]
     },
     "execution_count": 131,
     "metadata": {},
     "output_type": "execute_result"
    }
   ],
   "source": [
    "def nombre_funcion(x):\n",
    "    ''' descripcion de la funcion\n",
    "    entrada: x - variable de clase int\n",
    "    salida: descripcion de los parametros de salida ''' #docstring\n",
    "    r = x**2 + 1     \n",
    "    return x, r\n",
    "    #return x**2 + 1\n",
    "\n",
    "nombre_funcion(4)"
   ]
  },
  {
   "cell_type": "code",
   "execution_count": null,
   "id": "e25d39b9",
   "metadata": {},
   "outputs": [],
   "source": [
    "nombre_funcion #shift + tab = documentacion de la funcion"
   ]
  },
  {
   "cell_type": "code",
   "execution_count": 112,
   "id": "ecf3b096",
   "metadata": {},
   "outputs": [],
   "source": [
    "def hola_nombre(nombre = 'Karla'):\n",
    "    \"\"\" regresa un saludo \"\"\"\n",
    "    print('Hola', nombre)"
   ]
  },
  {
   "cell_type": "code",
   "execution_count": 113,
   "id": "5f100152",
   "metadata": {},
   "outputs": [
    {
     "name": "stdout",
     "output_type": "stream",
     "text": [
      "Hola Karla\n"
     ]
    }
   ],
   "source": [
    "hola_nombre()"
   ]
  },
  {
   "cell_type": "code",
   "execution_count": 115,
   "id": "b4bf1e5b",
   "metadata": {},
   "outputs": [
    {
     "data": {
      "text/plain": [
       "107.5"
      ]
     },
     "execution_count": 115,
     "metadata": {},
     "output_type": "execute_result"
    }
   ],
   "source": [
    "def f_3params(x, y, z):\n",
    "    ''' descripcion'''\n",
    "    return x**2 + y**3 - z\n",
    "\n",
    "f_3params(10, 2, 0.5)"
   ]
  },
  {
   "cell_type": "code",
   "execution_count": 117,
   "id": "3145e732",
   "metadata": {},
   "outputs": [
    {
     "data": {
      "text/plain": [
       "13.169786384922228"
      ]
     },
     "execution_count": 117,
     "metadata": {},
     "output_type": "execute_result"
    }
   ],
   "source": [
    "a2, b2, c2 = 2, 0.2, 10 # variables globales \n",
    "\n",
    "def f_var_local(x):\n",
    "    ''' descripcion'''\n",
    "    c3 = 4 * c2   # variable local\n",
    "    return a2 * x**b2 + c2\n",
    "\n",
    "f_var_local(10)"
   ]
  },
  {
   "cell_type": "code",
   "execution_count": null,
   "id": "fa352f25",
   "metadata": {},
   "outputs": [],
   "source": [
    "#c3"
   ]
  },
  {
   "cell_type": "markdown",
   "id": "578ae135",
   "metadata": {},
   "source": [
    "####  \\*args y \\**kwargs\n",
    "\n",
    "\\*parametros y \\**parametros_con_nombre\n",
    "\n",
    "Se utilizan cuando varía el número de parámetros de entrada de una función. "
   ]
  },
  {
   "cell_type": "code",
   "execution_count": 113,
   "id": "7ef232a1",
   "metadata": {},
   "outputs": [],
   "source": [
    "def n_params_cambiante(*parametros):\n",
    "    ''' ejemplo de funcion con numero de parametros cambiante.\n",
    "    input: cualquier cantidad de variables\n",
    "    output: sumatoria de cada parametro al cuadrado '''\n",
    "    cuads = 0\n",
    "    for i in parametros:\n",
    "        cuads = cuads + i**2\n",
    "    return cuads"
   ]
  },
  {
   "cell_type": "code",
   "execution_count": 115,
   "id": "b3c69fb7",
   "metadata": {},
   "outputs": [
    {
     "data": {
      "text/plain": [
       "20"
      ]
     },
     "execution_count": 115,
     "metadata": {},
     "output_type": "execute_result"
    }
   ],
   "source": [
    "n_params_cambiante(2,4)"
   ]
  },
  {
   "cell_type": "code",
   "execution_count": 101,
   "id": "28e64a69",
   "metadata": {},
   "outputs": [
    {
     "data": {
      "text/plain": [
       "29"
      ]
     },
     "execution_count": 101,
     "metadata": {},
     "output_type": "execute_result"
    }
   ],
   "source": [
    "n_params_cambiante(2,4,3)"
   ]
  },
  {
   "cell_type": "code",
   "execution_count": 123,
   "id": "d6606e12",
   "metadata": {},
   "outputs": [],
   "source": [
    "def n_params_cambiante2(x, *otros):\n",
    "    print(\"primer parametro normal:\", x)\n",
    "    for par in otros:\n",
    "        print(\"parametro de *otros:\", par)"
   ]
  },
  {
   "cell_type": "code",
   "execution_count": 124,
   "id": "baa572d0",
   "metadata": {},
   "outputs": [
    {
     "name": "stdout",
     "output_type": "stream",
     "text": [
      "primer parametro normal: a\n",
      "parametro de *otros: b\n",
      "parametro de *otros: c\n",
      "parametro de *otros: d\n"
     ]
    }
   ],
   "source": [
    "n_params_cambiante2('a', 'b', 'c', 'd')"
   ]
  },
  {
   "cell_type": "markdown",
   "id": "61cec344",
   "metadata": {},
   "source": [
    "#### \\**kwargs se usa cuando los parametros (que pueden variar en número) están asociados a un nombre (key)."
   ]
  },
  {
   "cell_type": "code",
   "execution_count": 137,
   "id": "9927f846",
   "metadata": {},
   "outputs": [
    {
     "name": "stdout",
     "output_type": "stream",
     "text": [
      "la llave key1 tiene de valor: 1\n",
      "la llave key2 tiene de valor: [2, 3, 2, 3]\n",
      "la llave key3 tiene de valor: 5\n"
     ]
    }
   ],
   "source": [
    "dict1 = {\n",
    "    'key1': 1,\n",
    "    'key2': [2,3,2,3],\n",
    "    'key3': 5 \n",
    "}\n",
    "\n",
    "def n_params_cambiante_nombre(**parametros_con_nombre):\n",
    "    for key, value in parametros_con_nombre.items():\n",
    "        print(\"la llave {0} tiene de valor: {1}\".format(key, value))\n",
    "        \n",
    "\n",
    "n_params_cambiante_nombre(**dict1)"
   ]
  },
  {
   "cell_type": "markdown",
   "id": "26f4610b",
   "metadata": {},
   "source": [
    "## try, except"
   ]
  },
  {
   "cell_type": "code",
   "execution_count": 132,
   "id": "101df953",
   "metadata": {},
   "outputs": [],
   "source": [
    "lista = [1,2,3]"
   ]
  },
  {
   "cell_type": "code",
   "execution_count": null,
   "id": "df3c33f2",
   "metadata": {},
   "outputs": [],
   "source": [
    "try:\n",
    "    lista[5]\n",
    "except:\n",
    "    print('no existe')"
   ]
  },
  {
   "cell_type": "markdown",
   "id": "2edec2ab",
   "metadata": {},
   "source": [
    "## map\n",
    "\n",
    "Aplica una función a una lista elemento por elemento. \n",
    "\n",
    "Regresa una lista transformada."
   ]
  },
  {
   "cell_type": "code",
   "execution_count": 147,
   "id": "c8fbf478",
   "metadata": {},
   "outputs": [],
   "source": [
    "def cubo(x):\n",
    "    return x**3"
   ]
  },
  {
   "cell_type": "code",
   "execution_count": 148,
   "id": "b1adbafe",
   "metadata": {},
   "outputs": [
    {
     "data": {
      "text/plain": [
       "[1, 8, 27]"
      ]
     },
     "execution_count": 148,
     "metadata": {},
     "output_type": "execute_result"
    }
   ],
   "source": [
    "list(map(cubo, lista))"
   ]
  },
  {
   "cell_type": "markdown",
   "id": "a91ebdbb",
   "metadata": {},
   "source": [
    "### lambda\n",
    "\n",
    "Función anónima. Util para funciones cortas."
   ]
  },
  {
   "cell_type": "code",
   "execution_count": 70,
   "id": "907fe058",
   "metadata": {},
   "outputs": [
    {
     "name": "stdout",
     "output_type": "stream",
     "text": [
      "15\n"
     ]
    }
   ],
   "source": [
    "def cubo(x):\n",
    "    return x**3"
   ]
  },
  {
   "cell_type": "code",
   "execution_count": 139,
   "id": "bbd01cff",
   "metadata": {},
   "outputs": [],
   "source": [
    "def cubo(x): return x**3"
   ]
  },
  {
   "cell_type": "code",
   "execution_count": 142,
   "id": "475b0cf6",
   "metadata": {},
   "outputs": [
    {
     "data": {
      "text/plain": [
       "<function __main__.<lambda>(x)>"
      ]
     },
     "execution_count": 142,
     "metadata": {},
     "output_type": "execute_result"
    }
   ],
   "source": [
    "lambda x: x**3"
   ]
  },
  {
   "cell_type": "code",
   "execution_count": 143,
   "id": "76f3b9ec",
   "metadata": {},
   "outputs": [
    {
     "data": {
      "text/plain": [
       "[1, 8, 27]"
      ]
     },
     "execution_count": 143,
     "metadata": {},
     "output_type": "execute_result"
    }
   ],
   "source": [
    "list(map(lambda x: x**3, lista))"
   ]
  },
  {
   "cell_type": "code",
   "execution_count": 144,
   "id": "f937c6c0",
   "metadata": {},
   "outputs": [],
   "source": [
    "cubo_lambda = lambda x: x**3"
   ]
  },
  {
   "cell_type": "code",
   "execution_count": 145,
   "id": "92a61527",
   "metadata": {},
   "outputs": [
    {
     "data": {
      "text/plain": [
       "27"
      ]
     },
     "execution_count": 145,
     "metadata": {},
     "output_type": "execute_result"
    }
   ],
   "source": [
    "cubo_lambda(3)"
   ]
  },
  {
   "cell_type": "markdown",
   "id": "8a331734",
   "metadata": {},
   "source": [
    "## Filter\n",
    "\n",
    "aplica filtro a una lista dada"
   ]
  },
  {
   "cell_type": "code",
   "execution_count": 150,
   "id": "0b2a271e",
   "metadata": {},
   "outputs": [
    {
     "data": {
      "text/plain": [
       "<filter at 0x7feb74fcd250>"
      ]
     },
     "execution_count": 150,
     "metadata": {},
     "output_type": "execute_result"
    }
   ],
   "source": [
    "filter(lambda x: (x**3)%2 == 1,lista)"
   ]
  },
  {
   "cell_type": "code",
   "execution_count": 152,
   "id": "55d831e0",
   "metadata": {},
   "outputs": [
    {
     "data": {
      "text/plain": [
       "[1, 3]"
      ]
     },
     "execution_count": 152,
     "metadata": {},
     "output_type": "execute_result"
    }
   ],
   "source": [
    "list(filter(lambda x: (x**3)%2 == 1, lista))"
   ]
  },
  {
   "cell_type": "markdown",
   "id": "eb50df6e",
   "metadata": {},
   "source": [
    "## Lectura/Escritura de datos (dat, txt, csv)\n",
    "\n",
    "\"a\" -- append (agrega) si no existe lo crea\n",
    "\n",
    "\"w\" -- write (reescribe) si no existe lo crea\n",
    "\n",
    "\"r\" -- only read\n",
    "\n",
    "\"x\" -- creates"
   ]
  },
  {
   "cell_type": "code",
   "execution_count": 169,
   "id": "98f8e4dd",
   "metadata": {},
   "outputs": [],
   "source": [
    "f = open(\"ejemplo.txt\", \"w\")\n",
    "f.write(\"=\"*20)\n",
    "f.write(\"\\n%4d %4d\"%(1,2))\n",
    "f.write(\"\\n%4d %4d\"%(3,5))\n",
    "f.close()"
   ]
  },
  {
   "cell_type": "code",
   "execution_count": 170,
   "id": "5898861e",
   "metadata": {},
   "outputs": [],
   "source": [
    "f = open(\"ejemplo.txt\", \"w\")\n",
    "f.write(\"%4s   %4s\"%(\"i\", \"10%\"))\n",
    "\n",
    "for i in range(0,20):\n",
    "    f.write(\"\\n%4d   %4.2f\"%(i, j))\n",
    "\n",
    "f.close()"
   ]
  },
  {
   "cell_type": "code",
   "execution_count": 171,
   "id": "82f67931",
   "metadata": {},
   "outputs": [
    {
     "name": "stdout",
     "output_type": "stream",
     "text": [
      "   i    10%\n",
      "   0   0.00\n",
      "   1   0.10\n",
      "   2   0.20\n",
      "   3   0.30\n",
      "   4   0.40\n",
      "   5   0.50\n",
      "   6   0.60\n",
      "   7   0.70\n",
      "   8   0.80\n",
      "   9   0.90\n",
      "  10   1.00\n",
      "  11   1.10\n",
      "  12   1.20\n",
      "  13   1.30\n",
      "  14   1.40\n",
      "  15   1.50\n",
      "  16   1.60\n",
      "  17   1.70\n",
      "  18   1.80\n",
      "  19   1.90\n"
     ]
    }
   ],
   "source": [
    "f = open(\"ejemplo.txt\", \"r\")\n",
    "print(f.read())\n"
   ]
  },
  {
   "cell_type": "code",
   "execution_count": 174,
   "id": "5355dfeb",
   "metadata": {},
   "outputs": [],
   "source": [
    "f = open(\"ejemplo.txt\", \"a\")  # \"a\"-> append,  \"w\"-> sobrescribir  \"x\"-> crea\n",
    "f.write(\"\\nLinea extra\")\n",
    "f.close()"
   ]
  },
  {
   "cell_type": "code",
   "execution_count": 183,
   "id": "7b66eedc",
   "metadata": {},
   "outputs": [
    {
     "name": "stdout",
     "output_type": "stream",
     "text": [
      "   i    10%\n",
      "   0   0.00\n",
      "   1   0.10\n",
      "   2   0.20\n",
      "   3   0.30\n",
      "   4   0.40\n",
      "   5   0.50\n",
      "   6   0.60\n",
      "   7   0.70\n",
      "   8   0.80\n",
      "   9   0.90\n",
      "  10   1.00\n",
      "  11   1.10\n",
      "  12   1.20\n",
      "  13   1.30\n",
      "  14   1.40\n",
      "  15   1.50\n",
      "  16   1.60\n",
      "  17   1.70\n",
      "  18   1.80\n",
      "  19   1.90Linea extra\n",
      "Linea extra\n",
      " a  b\n"
     ]
    }
   ],
   "source": [
    "f = open(\"ejemplo.txt\", \"r\")\n",
    "print(f.read())"
   ]
  },
  {
   "cell_type": "code",
   "execution_count": 185,
   "id": "a776decd",
   "metadata": {},
   "outputs": [],
   "source": [
    "f = open(\"ejemplo.txt\", \"w\")\n",
    "f.write(\"%4s   %4s\"%(\"i\", \"10%\"))\n",
    "\n",
    "for i in range(0,20):\n",
    "    f.write(\"\\n%4d   %4.2f\"%(i, j))\n",
    "\n",
    "f.close()"
   ]
  },
  {
   "cell_type": "code",
   "execution_count": null,
   "id": "9097d253",
   "metadata": {},
   "outputs": [],
   "source": [
    "from astropy.io import ascii\n",
    "archivo_como_ascii = ascii.read('ejemplo.txt')"
   ]
  },
  {
   "cell_type": "code",
   "execution_count": 195,
   "id": "2446760c",
   "metadata": {},
   "outputs": [
    {
     "data": {
      "text/html": [
       "&lt;Column name=&apos;j&apos; dtype=&apos;float64&apos; length=20&gt;\n",
       "<table>\n",
       "<tr><td>0.0</td></tr>\n",
       "<tr><td>0.2</td></tr>\n",
       "<tr><td>0.4</td></tr>\n",
       "<tr><td>0.6</td></tr>\n",
       "<tr><td>0.8</td></tr>\n",
       "<tr><td>1.0</td></tr>\n",
       "<tr><td>1.2</td></tr>\n",
       "<tr><td>1.4</td></tr>\n",
       "<tr><td>1.6</td></tr>\n",
       "<tr><td>1.8</td></tr>\n",
       "<tr><td>2.0</td></tr>\n",
       "<tr><td>2.2</td></tr>\n",
       "<tr><td>2.4</td></tr>\n",
       "<tr><td>2.6</td></tr>\n",
       "<tr><td>2.8</td></tr>\n",
       "<tr><td>3.0</td></tr>\n",
       "<tr><td>3.2</td></tr>\n",
       "<tr><td>3.4</td></tr>\n",
       "<tr><td>3.6</td></tr>\n",
       "<tr><td>3.8</td></tr>\n",
       "</table>"
      ],
      "text/plain": [
       "<Column name='j' dtype='float64' length=20>\n",
       "0.0\n",
       "0.2\n",
       "0.4\n",
       "0.6\n",
       "0.8\n",
       "1.0\n",
       "1.2\n",
       "1.4\n",
       "1.6\n",
       "1.8\n",
       "2.0\n",
       "2.2\n",
       "2.4\n",
       "2.6\n",
       "2.8\n",
       "3.0\n",
       "3.2\n",
       "3.4\n",
       "3.6\n",
       "3.8"
      ]
     },
     "execution_count": 195,
     "metadata": {},
     "output_type": "execute_result"
    }
   ],
   "source": [
    "#archivo_como_ascii[0][:]\n",
    "\n",
    "archivo_como_ascii['j']*2"
   ]
  },
  {
   "cell_type": "code",
   "execution_count": 198,
   "id": "e0525512",
   "metadata": {},
   "outputs": [],
   "source": [
    "import numpy as np\n",
    "f=np.loadtxt('ejemplo.txt', skiprows=1)\n",
    "col_i, col_j= f[:,0],f[:,1]"
   ]
  },
  {
   "cell_type": "code",
   "execution_count": 199,
   "id": "8f92e211",
   "metadata": {},
   "outputs": [
    {
     "data": {
      "text/plain": [
       "array([ 0.,  1.,  2.,  3.,  4.,  5.,  6.,  7.,  8.,  9., 10., 11., 12.,\n",
       "       13., 14., 15., 16., 17., 18., 19.])"
      ]
     },
     "execution_count": 199,
     "metadata": {},
     "output_type": "execute_result"
    }
   ],
   "source": [
    "col_i"
   ]
  },
  {
   "cell_type": "code",
   "execution_count": 200,
   "id": "22ae00dc",
   "metadata": {},
   "outputs": [],
   "source": [
    "import csv \n",
    "\n",
    "cols = ['i', 'j', 'k', 'l'] \n",
    "\n",
    "rows = [ ['A', '2', '9.0'], \n",
    "         ['B', '2', '9.1'], \n",
    "         ['C', '2', '9.3'], \n",
    "         ['D', '1', '9.5']] \n",
    "\n",
    "with open(\"ejemplo2.csv\", \"w\") as csvfile: \n",
    "    csvwriter = csv.writer(csvfile) \n",
    "    csvwriter.writerow(cols) \n",
    "    csvwriter.writerows(rows)"
   ]
  },
  {
   "cell_type": "markdown",
   "id": "124c2898",
   "metadata": {},
   "source": [
    "ejercicio: \n",
    "\n",
    "leer documento correos para:\n",
    "- obtener una lista con los diferentes dominios\n",
    "\n",
    "- crear nuevo documento indicando nombre de usuario y numero de vocales que contiene el nombre"
   ]
  },
  {
   "cell_type": "code",
   "execution_count": null,
   "id": "60ff1395",
   "metadata": {},
   "outputs": [],
   "source": []
  }
 ],
 "metadata": {
  "kernelspec": {
   "display_name": "Python 3",
   "language": "python",
   "name": "python3"
  },
  "language_info": {
   "codemirror_mode": {
    "name": "ipython",
    "version": 3
   },
   "file_extension": ".py",
   "mimetype": "text/x-python",
   "name": "python",
   "nbconvert_exporter": "python",
   "pygments_lexer": "ipython3",
   "version": "3.8.13"
  }
 },
 "nbformat": 4,
 "nbformat_minor": 5
}
